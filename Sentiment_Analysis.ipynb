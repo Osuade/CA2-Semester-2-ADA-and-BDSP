{
 "cells": [
  {
   "cell_type": "code",
   "execution_count": 6,
   "id": "d9384f37",
   "metadata": {},
   "outputs": [
    {
     "data": {
      "text/html": [
       "<div>\n",
       "<style scoped>\n",
       "    .dataframe tbody tr th:only-of-type {\n",
       "        vertical-align: middle;\n",
       "    }\n",
       "\n",
       "    .dataframe tbody tr th {\n",
       "        vertical-align: top;\n",
       "    }\n",
       "\n",
       "    .dataframe thead th {\n",
       "        text-align: right;\n",
       "    }\n",
       "</style>\n",
       "<table border=\"1\" class=\"dataframe\">\n",
       "  <thead>\n",
       "    <tr style=\"text-align: right;\">\n",
       "      <th></th>\n",
       "      <th>index</th>\n",
       "      <th>ID</th>\n",
       "      <th>date</th>\n",
       "      <th>query</th>\n",
       "      <th>user</th>\n",
       "      <th>Text</th>\n",
       "    </tr>\n",
       "  </thead>\n",
       "  <tbody>\n",
       "    <tr>\n",
       "      <th>0</th>\n",
       "      <td>0</td>\n",
       "      <td>1467810369</td>\n",
       "      <td>Mon Apr 06 22:19:45 PDT 2009</td>\n",
       "      <td>NO_QUERY</td>\n",
       "      <td>_TheSpecialOne_</td>\n",
       "      <td>@switchfoot http://twitpic.com/2y1zl - Awww, t...</td>\n",
       "    </tr>\n",
       "    <tr>\n",
       "      <th>1</th>\n",
       "      <td>1</td>\n",
       "      <td>1467810672</td>\n",
       "      <td>Mon Apr 06 22:19:49 PDT 2009</td>\n",
       "      <td>NO_QUERY</td>\n",
       "      <td>scotthamilton</td>\n",
       "      <td>is upset that he can't update his Facebook by ...</td>\n",
       "    </tr>\n",
       "  </tbody>\n",
       "</table>\n",
       "</div>"
      ],
      "text/plain": [
       "   index          ID                          date     query             user  \\\n",
       "0      0  1467810369  Mon Apr 06 22:19:45 PDT 2009  NO_QUERY  _TheSpecialOne_   \n",
       "1      1  1467810672  Mon Apr 06 22:19:49 PDT 2009  NO_QUERY    scotthamilton   \n",
       "\n",
       "                                                Text  \n",
       "0  @switchfoot http://twitpic.com/2y1zl - Awww, t...  \n",
       "1  is upset that he can't update his Facebook by ...  "
      ]
     },
     "execution_count": 6,
     "metadata": {},
     "output_type": "execute_result"
    }
   ],
   "source": [
    "import pandas as pd\n",
    "import warnings\n",
    "import seaborn as sns\n",
    "import matplotlib.pyplot as plt\n",
    "\n",
    "warnings.filterwarnings(\"ignore\")\n",
    "columns = ['index', 'ID', 'date', 'query', 'user', 'Text']\n",
    "tweet = pd.read_csv(\"ProjectTweets.csv\",header=None,names=columns,delimiter=',')\n",
    "tweet.head(2)"
   ]
  },
  {
   "cell_type": "code",
   "execution_count": 7,
   "id": "46431deb",
   "metadata": {},
   "outputs": [
    {
     "name": "stdout",
     "output_type": "stream",
     "text": [
      "query only has 1 value, dropping query field\n",
      "Index(['ID', 'date', 'user', 'Text'], dtype='object')\n"
     ]
    }
   ],
   "source": [
    "if len(tweet['query'].unique()) <2:\n",
    "    print(\"query only has 1 value, dropping query field\")\n",
    "    tweet = tweet[[ 'ID', 'date', 'user','Text']]\n",
    "    print(tweet.columns)"
   ]
  },
  {
   "cell_type": "code",
   "execution_count": 8,
   "id": "4f5f9fbb",
   "metadata": {},
   "outputs": [
    {
     "data": {
      "text/html": [
       "<div>\n",
       "<style scoped>\n",
       "    .dataframe tbody tr th:only-of-type {\n",
       "        vertical-align: middle;\n",
       "    }\n",
       "\n",
       "    .dataframe tbody tr th {\n",
       "        vertical-align: top;\n",
       "    }\n",
       "\n",
       "    .dataframe thead th {\n",
       "        text-align: right;\n",
       "    }\n",
       "</style>\n",
       "<table border=\"1\" class=\"dataframe\">\n",
       "  <thead>\n",
       "    <tr style=\"text-align: right;\">\n",
       "      <th></th>\n",
       "      <th>ID</th>\n",
       "      <th>date</th>\n",
       "      <th>user</th>\n",
       "      <th>Text</th>\n",
       "    </tr>\n",
       "  </thead>\n",
       "  <tbody>\n",
       "    <tr>\n",
       "      <th>0</th>\n",
       "      <td>1467810369</td>\n",
       "      <td>Mon Apr 06 22:19:45 PDT 2009</td>\n",
       "      <td>_TheSpecialOne_</td>\n",
       "      <td>@switchfoot http://twitpic.com/2y1zl - Awww, t...</td>\n",
       "    </tr>\n",
       "    <tr>\n",
       "      <th>1</th>\n",
       "      <td>1467810672</td>\n",
       "      <td>Mon Apr 06 22:19:49 PDT 2009</td>\n",
       "      <td>scotthamilton</td>\n",
       "      <td>is upset that he can't update his Facebook by ...</td>\n",
       "    </tr>\n",
       "  </tbody>\n",
       "</table>\n",
       "</div>"
      ],
      "text/plain": [
       "           ID                          date             user  \\\n",
       "0  1467810369  Mon Apr 06 22:19:45 PDT 2009  _TheSpecialOne_   \n",
       "1  1467810672  Mon Apr 06 22:19:49 PDT 2009    scotthamilton   \n",
       "\n",
       "                                                Text  \n",
       "0  @switchfoot http://twitpic.com/2y1zl - Awww, t...  \n",
       "1  is upset that he can't update his Facebook by ...  "
      ]
     },
     "execution_count": 8,
     "metadata": {},
     "output_type": "execute_result"
    }
   ],
   "source": [
    "tweet = tweet.drop_duplicates()\n",
    "tweet.head(2)"
   ]
  },
  {
   "cell_type": "code",
   "execution_count": 9,
   "id": "2452507d",
   "metadata": {},
   "outputs": [
    {
     "name": "stdout",
     "output_type": "stream",
     "text": [
      "0         2009-04-06 22:19:45\n",
      "1         2009-04-06 22:19:49\n",
      "2         2009-04-06 22:19:53\n",
      "3         2009-04-06 22:19:57\n",
      "4         2009-04-06 22:19:57\n",
      "                  ...        \n",
      "1599995   2009-06-16 08:40:49\n",
      "1599996   2009-06-16 08:40:49\n",
      "1599997   2009-06-16 08:40:49\n",
      "1599998   2009-06-16 08:40:49\n",
      "1599999   2009-06-16 08:40:50\n",
      "Name: date, Length: 1598315, dtype: datetime64[ns]\n"
     ]
    }
   ],
   "source": [
    "#To format date\n",
    "tweet = tweet[['date','Text']]\n",
    "\n",
    "date_format = \"%a %b %d %H:%M:%S PDT %Y\"\n",
    "# Convert to datetime \n",
    "tweet['date'] = pd.to_datetime(tweet['date'], format=date_format)\n",
    "print(tweet['date'])"
   ]
  },
  {
   "cell_type": "code",
   "execution_count": 10,
   "id": "3bede8b4",
   "metadata": {},
   "outputs": [
    {
     "name": "stdout",
     "output_type": "stream",
     "text": [
      "total hashtag: 13653\n"
     ]
    },
    {
     "data": {
      "text/plain": [
       "#followfriday       2112\n",
       "#fb                 1744\n",
       "#squarespace         887\n",
       "#FF                  586\n",
       "#1                   519\n",
       "#seb                 499\n",
       "#FollowFriday        463\n",
       "#musicmonday         404\n",
       "#ff                  399\n",
       "#iranelection        359\n",
       "#2                   341\n",
       "#fail                301\n",
       "#BSB                 299\n",
       "#myweakness          269\n",
       "#iremember           268\n",
       "#asot400             264\n",
       "#marsiscoming        248\n",
       "#mcflyforgermany     230\n",
       "#andyhurleyday       188\n",
       "#iPhone              185\n",
       "Name: Text, dtype: int64"
      ]
     },
     "execution_count": 10,
     "metadata": {},
     "output_type": "execute_result"
    }
   ],
   "source": [
    "#checking hashtags\n",
    "import re\n",
    "\n",
    "def hashtags(tweet):\n",
    "    hashtags = re.findall(r'#\\w+', tweet)\n",
    "    return hashtags\n",
    "\n",
    "# Apply the function to the 'tweet' column and flatten the list of hashtags\n",
    "hashtags_list = tweet['Text'].apply(hashtags).explode()\n",
    "hashtags_list = hashtags_list.value_counts()\n",
    "print(f'total hashtag: {len(hashtags_list)}')\n",
    "hashtags_list[:20] #top 20 hashtags"
   ]
  },
  {
   "cell_type": "code",
   "execution_count": 11,
   "id": "b043120f",
   "metadata": {},
   "outputs": [
    {
     "data": {
      "text/plain": [
       "0          @switchfoot http://twitpic.com/2y1zl - Awww, t...\n",
       "1          is upset that he can't update his Facebook by ...\n",
       "2          @Kenichan I dived many times for the ball. Man...\n",
       "3            my whole body feels itchy and like its on fire \n",
       "4          @nationwideclass no, it's not behaving at all....\n",
       "                                 ...                        \n",
       "1599995    Just woke up. Having no school is the best fee...\n",
       "1599996    TheWDB.com - Very cool to hear old Walt interv...\n",
       "1599997    Are you ready for your MoJo Makeover? Ask me f...\n",
       "1599998    Happy 38th Birthday to my boo of alll time!!! ...\n",
       "1599999    happy #charitytuesday @theNSPCC @SparksCharity...\n",
       "Name: Text, Length: 1598315, dtype: object"
      ]
     },
     "execution_count": 11,
     "metadata": {},
     "output_type": "execute_result"
    }
   ],
   "source": [
    "tweet['Text']"
   ]
  },
  {
   "cell_type": "code",
   "execution_count": 12,
   "id": "7968d9d3",
   "metadata": {},
   "outputs": [
    {
     "name": "stdout",
     "output_type": "stream",
     "text": [
      "total tag: 356113\n"
     ]
    }
   ],
   "source": [
    "def tag(tweet):\n",
    "    hashtags = re.findall(r'@\\w+', tweet)\n",
    "    return hashtags\n",
    "\n",
    "# Apply the function to the 'tweet' column and flatten the list of hashtags\n",
    "tag_list = tweet['Text'].apply(tag).explode()\n",
    "tag_list = tag_list.value_counts()\n",
    "print(f'total tag: {len(tag_list)}')\n",
    "top1000_tag = tag_list[:1000] #top 10 hashtags"
   ]
  },
  {
   "cell_type": "code",
   "execution_count": 13,
   "id": "2c011c91",
   "metadata": {},
   "outputs": [
    {
     "name": "stderr",
     "output_type": "stream",
     "text": [
      "[nltk_data] Downloading package punkt to\n",
      "[nltk_data]     C:\\Users\\Avita\\AppData\\Roaming\\nltk_data...\n",
      "[nltk_data]   Package punkt is already up-to-date!\n",
      "[nltk_data] Downloading package stopwords to\n",
      "[nltk_data]     C:\\Users\\Avita\\AppData\\Roaming\\nltk_data...\n",
      "[nltk_data]   Unzipping corpora\\stopwords.zip.\n"
     ]
    }
   ],
   "source": [
    "import nltk\n",
    "from nltk.stem import PorterStemmer\n",
    "nltk.download('punkt')  # Download the necessary data for NLTK\n",
    "nltk.download('stopwords')\n",
    "stemmer = PorterStemmer()\n",
    "from nltk.corpus import stopwords\n",
    "stop_words = set(stopwords.words('english'))\n",
    "\n",
    "\n",
    "def cleaning(text):\n",
    "    # Remove hashtags\n",
    "    text = re.sub(r'#\\w+', '', text)\n",
    "    # Remove mentions\n",
    "    text = re.sub(r'@\\w+', '', text)\n",
    "    #remove punctuation\n",
    "    text = re.sub(r'[^\\w\\s]', '', text)\n",
    "    ##stop words #stemming\n",
    "    tokens = nltk.word_tokenize(text)\n",
    "    stemmed_text = ' '.join([stemmer.stem(token) for token in tokens if token not in stop_words ])\n",
    "    \n",
    "    return stemmed_text\n",
    "\n",
    "tweet['Text'] = tweet['Text'].apply(cleaning)"
   ]
  },
  {
   "cell_type": "code",
   "execution_count": 15,
   "id": "5ac510d1",
   "metadata": {},
   "outputs": [
    {
     "name": "stderr",
     "output_type": "stream",
     "text": [
      "[nltk_data] Downloading package vader_lexicon to\n",
      "[nltk_data]     C:\\Users\\Avita\\AppData\\Roaming\\nltk_data...\n"
     ]
    }
   ],
   "source": [
    "\n",
    "import nltk\n",
    "from nltk.sentiment import SentimentIntensityAnalyzer\n",
    "nltk.download('vader_lexicon')\n",
    "sia = SentimentIntensityAnalyzer()\n",
    "\n",
    "def polarity_Vader(x):\n",
    "    return sia.polarity_scores(x)[\"compound\"]\n"
   ]
  },
  {
   "cell_type": "code",
   "execution_count": 19,
   "id": "75ac626f",
   "metadata": {},
   "outputs": [],
   "source": [
    "tweet['score_V'] = tweet['Text'].apply(lambda x: polarity_Vader(x))"
   ]
  },
  {
   "cell_type": "code",
   "execution_count": 30,
   "id": "8d110b2d",
   "metadata": {},
   "outputs": [
    {
     "data": {
      "text/plain": [
       "count    1.598315e+06\n",
       "mean     1.182315e-01\n",
       "std      4.007151e-01\n",
       "min     -9.985000e-01\n",
       "25%      0.000000e+00\n",
       "50%      0.000000e+00\n",
       "75%      4.404000e-01\n",
       "max      9.928000e-01\n",
       "Name: score_V, dtype: float64"
      ]
     },
     "execution_count": 30,
     "metadata": {},
     "output_type": "execute_result"
    }
   ],
   "source": [
    "tweet['score_V'].describe()"
   ]
  },
  {
   "cell_type": "code",
   "execution_count": 31,
   "id": "c6820cda",
   "metadata": {},
   "outputs": [
    {
     "name": "stdout",
     "output_type": "stream",
     "text": [
      "<class 'pandas.core.frame.DataFrame'>\n",
      "Int64Index: 1598315 entries, 0 to 1599999\n",
      "Data columns (total 3 columns):\n",
      " #   Column   Non-Null Count    Dtype         \n",
      "---  ------   --------------    -----         \n",
      " 0   date     1598315 non-null  datetime64[ns]\n",
      " 1   Text     1598315 non-null  object        \n",
      " 2   score_V  1598315 non-null  float64       \n",
      "dtypes: datetime64[ns](1), float64(1), object(1)\n",
      "memory usage: 48.8+ MB\n"
     ]
    }
   ],
   "source": [
    "tweet.info()"
   ]
  },
  {
   "cell_type": "code",
   "execution_count": 32,
   "id": "0d694432",
   "metadata": {},
   "outputs": [
    {
     "data": {
      "text/plain": [
       "<matplotlib.collections.PathCollection at 0x1c96de597b0>"
      ]
     },
     "execution_count": 32,
     "metadata": {},
     "output_type": "execute_result"
    },
    {
     "data": {
      "image/png": "[encoded data removed]",
      "text/plain": [
       "<Figure size 640x480 with 1 Axes>"
      ]
     },
     "metadata": {},
     "output_type": "display_data"
    }
   ],
   "source": [
    "#checking null values in time serie\n",
    "plt.scatter(tweet['date'], tweet['score_V'], marker='o',s=1)"
   ]
  },
  {
   "cell_type": "code",
   "execution_count": 33,
   "id": "d7d0c282",
   "metadata": {},
   "outputs": [
    {
     "data": {
      "text/html": [
       "<div>\n",
       "<style scoped>\n",
       "    .dataframe tbody tr th:only-of-type {\n",
       "        vertical-align: middle;\n",
       "    }\n",
       "\n",
       "    .dataframe tbody tr th {\n",
       "        vertical-align: top;\n",
       "    }\n",
       "\n",
       "    .dataframe thead th {\n",
       "        text-align: right;\n",
       "    }\n",
       "</style>\n",
       "<table border=\"1\" class=\"dataframe\">\n",
       "  <thead>\n",
       "    <tr style=\"text-align: right;\">\n",
       "      <th></th>\n",
       "      <th>Text</th>\n",
       "      <th>score_V</th>\n",
       "    </tr>\n",
       "    <tr>\n",
       "      <th>date</th>\n",
       "      <th></th>\n",
       "      <th></th>\n",
       "    </tr>\n",
       "  </thead>\n",
       "  <tbody>\n",
       "    <tr>\n",
       "      <th>2009-04-06 22:19:45</th>\n",
       "      <td>httptwitpiccom2y1zl awww that bummer you shoul...</td>\n",
       "      <td>-0.3818</td>\n",
       "    </tr>\n",
       "    <tr>\n",
       "      <th>2009-04-06 22:19:49</th>\n",
       "      <td>upset cant updat facebook text might cri resul...</td>\n",
       "      <td>-0.4588</td>\n",
       "    </tr>\n",
       "    <tr>\n",
       "      <th>2009-04-06 22:19:53</th>\n",
       "      <td>i dive mani time ball manag save 50 the rest g...</td>\n",
       "      <td>0.4939</td>\n",
       "    </tr>\n",
       "    <tr>\n",
       "      <th>2009-04-06 22:19:57</th>\n",
       "      <td>whole bodi feel itchi like fire</td>\n",
       "      <td>0.0258</td>\n",
       "    </tr>\n",
       "    <tr>\n",
       "      <th>2009-04-06 22:19:57</th>\n",
       "      <td>behav im mad i cant see</td>\n",
       "      <td>-0.4939</td>\n",
       "    </tr>\n",
       "    <tr>\n",
       "      <th>...</th>\n",
       "      <td>...</td>\n",
       "      <td>...</td>\n",
       "    </tr>\n",
       "    <tr>\n",
       "      <th>2009-06-16 08:40:49</th>\n",
       "      <td>just woke have school best feel ever</td>\n",
       "      <td>0.6369</td>\n",
       "    </tr>\n",
       "    <tr>\n",
       "      <th>2009-06-16 08:40:49</th>\n",
       "      <td>thewdbcom veri cool hear old walt interview â ...</td>\n",
       "      <td>0.3182</td>\n",
       "    </tr>\n",
       "    <tr>\n",
       "      <th>2009-06-16 08:40:49</th>\n",
       "      <td>are readi mojo makeov ask detail</td>\n",
       "      <td>0.0000</td>\n",
       "    </tr>\n",
       "    <tr>\n",
       "      <th>2009-06-16 08:40:49</th>\n",
       "      <td>happi 38th birthday boo alll time tupac amaru ...</td>\n",
       "      <td>0.0000</td>\n",
       "    </tr>\n",
       "    <tr>\n",
       "      <th>2009-06-16 08:40:50</th>\n",
       "      <td>happi</td>\n",
       "      <td>0.0000</td>\n",
       "    </tr>\n",
       "  </tbody>\n",
       "</table>\n",
       "<p>1598315 rows × 2 columns</p>\n",
       "</div>"
      ],
      "text/plain": [
       "                                                                  Text  \\\n",
       "date                                                                     \n",
       "2009-04-06 22:19:45  httptwitpiccom2y1zl awww that bummer you shoul...   \n",
       "2009-04-06 22:19:49  upset cant updat facebook text might cri resul...   \n",
       "2009-04-06 22:19:53  i dive mani time ball manag save 50 the rest g...   \n",
       "2009-04-06 22:19:57                    whole bodi feel itchi like fire   \n",
       "2009-04-06 22:19:57                            behav im mad i cant see   \n",
       "...                                                                ...   \n",
       "2009-06-16 08:40:49               just woke have school best feel ever   \n",
       "2009-06-16 08:40:49  thewdbcom veri cool hear old walt interview â ...   \n",
       "2009-06-16 08:40:49                   are readi mojo makeov ask detail   \n",
       "2009-06-16 08:40:49  happi 38th birthday boo alll time tupac amaru ...   \n",
       "2009-06-16 08:40:50                                              happi   \n",
       "\n",
       "                     score_V  \n",
       "date                          \n",
       "2009-04-06 22:19:45  -0.3818  \n",
       "2009-04-06 22:19:49  -0.4588  \n",
       "2009-04-06 22:19:53   0.4939  \n",
       "2009-04-06 22:19:57   0.0258  \n",
       "2009-04-06 22:19:57  -0.4939  \n",
       "...                      ...  \n",
       "2009-06-16 08:40:49   0.6369  \n",
       "2009-06-16 08:40:49   0.3182  \n",
       "2009-06-16 08:40:49   0.0000  \n",
       "2009-06-16 08:40:49   0.0000  \n",
       "2009-06-16 08:40:50   0.0000  \n",
       "\n",
       "[1598315 rows x 2 columns]"
      ]
     },
     "execution_count": 33,
     "metadata": {},
     "output_type": "execute_result"
    }
   ],
   "source": [
    "tweet_2 = tweet.set_index('date')\n",
    "tweet_2"
   ]
  },
  {
   "cell_type": "code",
   "execution_count": 34,
   "id": "61e6bbd8",
   "metadata": {},
   "outputs": [],
   "source": [
    "tweet_2 = tweet_2.groupby(pd.Grouper(freq='H')).mean()"
   ]
  },
  {
   "cell_type": "code",
   "execution_count": 35,
   "id": "0359cf76",
   "metadata": {},
   "outputs": [
    {
     "data": {
      "text/plain": [
       "Text(0.5, 1.0, 'Hourly average')"
      ]
     },
     "execution_count": 35,
     "metadata": {},
     "output_type": "execute_result"
    },
    {
     "data": {
      "image/png": "[encoded data removed]",
      "text/plain": [
       "<Figure size 640x480 with 1 Axes>"
      ]
     },
     "metadata": {},
     "output_type": "display_data"
    }
   ],
   "source": [
    "plt.plot(tweet_2.index,tweet_2['score_V'])\n",
    "plt.title('Hourly average')"
   ]
  },
  {
   "cell_type": "code",
   "execution_count": 36,
   "id": "73681ce4",
   "metadata": {},
   "outputs": [
    {
     "data": {
      "text/plain": [
       "Text(0.5, 1.0, 'Daily average')"
      ]
     },
     "execution_count": 36,
     "metadata": {},
     "output_type": "execute_result"
    },
    {
     "data": {
      "image/png": "[encoded data removed]",
      "text/plain": [
       "<Figure size 640x480 with 1 Axes>"
      ]
     },
     "metadata": {},
     "output_type": "display_data"
    }
   ],
   "source": [
    "tweet_3 = tweet.set_index('date').groupby(pd.Grouper(freq='D')).mean()\n",
    "plt.plot(tweet_3.index,tweet_3['score_V'])\n",
    "plt.title(\"Daily average\")"
   ]
  },
  {
   "cell_type": "code",
   "execution_count": 37,
   "id": "fef6951b",
   "metadata": {},
   "outputs": [
    {
     "data": {
      "text/plain": [
       "Text(0.5, 1.0, 'Minute average')"
      ]
     },
     "execution_count": 37,
     "metadata": {},
     "output_type": "execute_result"
    },
    {
     "data": {
      "image/png": "[encoded data removed]",
      "text/plain": [
       "<Figure size 640x480 with 1 Axes>"
      ]
     },
     "metadata": {},
     "output_type": "display_data"
    }
   ],
   "source": [
    "tweet_4 = tweet.set_index('date').groupby(pd.Grouper(freq='T')).mean()\n",
    "plt.plot(tweet_4.index,tweet_4['score_V'])\n",
    "plt.title(\"Minute average\")"
   ]
  },
  {
   "cell_type": "code",
   "execution_count": 38,
   "id": "79917113",
   "metadata": {},
   "outputs": [],
   "source": [
    "tweet_5 = tweet.set_index('date').groupby(pd.Grouper(freq='S')).mean()\n",
    "#can't plot exceed limit"
   ]
  },
  {
   "cell_type": "code",
   "execution_count": 39,
   "id": "e919b460",
   "metadata": {},
   "outputs": [
    {
     "name": "stdout",
     "output_type": "stream",
     "text": [
      " aggregate by Day percentage of null: 0.41\n",
      " aggregate by Hour percentage of null: 0.69\n",
      " aggregate by Minute percentage of null: 0.75\n",
      " aggregate by Second percentage of null: 0.89\n"
     ]
    }
   ],
   "source": [
    "print(f' aggregate by Day percentage of null: {round(tweet_3.score_V.isna().sum()/len(tweet_3),2)}')\n",
    "print(f' aggregate by Hour percentage of null: {round(tweet_2.score_V.isna().sum()/len(tweet_2),2)}')\n",
    "print(f' aggregate by Minute percentage of null: {round(tweet_4.score_V.isna().sum()/len(tweet_4),2)}')\n",
    "print(f' aggregate by Second percentage of null: {round(tweet_5.score_V.isna().sum()/len(tweet_5),2)}')"
   ]
  },
  {
   "cell_type": "code",
   "execution_count": null,
   "id": "1974eb16",
   "metadata": {},
   "outputs": [],
   "source": []
  }
 ],
 "metadata": {
  "kernelspec": {
   "display_name": "Python 3 (ipykernel)",
   "language": "python",
   "name": "python3"
  },
  "language_info": {
   "codemirror_mode": {
    "name": "ipython",
    "version": 3
   },
   "file_extension": ".py",
   "mimetype": "text/x-python",
   "name": "python",
   "nbconvert_exporter": "python",
   "pygments_lexer": "ipython3",
   "version": "3.10.9"
  }
 },
 "nbformat": 4,
 "nbformat_minor": 5
}
